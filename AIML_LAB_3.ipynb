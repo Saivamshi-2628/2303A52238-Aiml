{
  "nbformat": 4,
  "nbformat_minor": 0,
  "metadata": {
    "colab": {
      "provenance": [],
      "authorship_tag": "ABX9TyNZu60U2kzeCscsmZuRe6nF",
      "include_colab_link": true
    },
    "kernelspec": {
      "name": "python3",
      "display_name": "Python 3"
    },
    "language_info": {
      "name": "python"
    }
  },
  "cells": [
    {
      "cell_type": "markdown",
      "metadata": {
        "id": "view-in-github",
        "colab_type": "text"
      },
      "source": [
        "<a href=\"https://colab.research.google.com/github/Saivamshi-2628/2303A52238-Aiml/blob/main/AIML_LAB_3.ipynb\" target=\"_parent\"><img src=\"https://colab.research.google.com/assets/colab-badge.svg\" alt=\"Open In Colab\"/></a>"
      ]
    },
    {
      "cell_type": "code",
      "execution_count": null,
      "metadata": {
        "colab": {
          "base_uri": "https://localhost:8080/",
          "height": 106
        },
        "id": "AEO1Co75tECd",
        "outputId": "10c6ad3f-58e3-43b5-c0f6-b66471011303"
      },
      "outputs": [
        {
          "output_type": "error",
          "ename": "SyntaxError",
          "evalue": "unterminated string literal (detected at line 8) (<ipython-input-2-061e84244dc0>, line 8)",
          "traceback": [
            "\u001b[0;36m  File \u001b[0;32m\"<ipython-input-2-061e84244dc0>\"\u001b[0;36m, line \u001b[0;32m8\u001b[0m\n\u001b[0;31m    california_housing = pd.read_csv('/content/drive/MyDrive/\u001b[0m\n\u001b[0m                                     ^\u001b[0m\n\u001b[0;31mSyntaxError\u001b[0m\u001b[0;31m:\u001b[0m unterminated string literal (detected at line 8)\n"
          ]
        }
      ],
      "source": [
        "drive.mount('/content/drive')\n",
        "import pandas as pd\n",
        "\n",
        "from scipy.stats import norm\n",
        "import matplotlib.pyplot as plt\n",
        "import numpy as np\n",
        "\n",
        "# Load the dataset\n",
        "file_path = 'housing.csv'\n",
        "california_housing = pd.read_csv('/content/drive/MyDrive/\n",
        "housing.csv')\n",
        "\n",
        "# Columns to analyze\n",
        "columns_to_analyze = ['latitude', 'total_rooms',\n",
        "'housing_median_age', 'total_bedrooms']\n",
        "\n",
        "mle_results = {}\n",
        "for column in columns_to_analyze:\n",
        " mu, std =\n",
        "norm.fit(california_housing[column].dropna())\n",
        " mle_results[column] = {'Mean (mu)': mu, 'Std\n",
        "(sigma)': std}\n",
        "# Print the MLE results\n",
        "print(\"Question 1: MLE Results\")\n",
        "for column, params in mle_results.items():\n",
        " print(f\"{column} - Mean (μ): {params['Mean (mu)']},\n",
        "Std (σ): {params['Std (sigma)']}\")\n",
        "\n",
        "\n",
        "latitude_mu = mle_results['latitude']['Mean (mu)']\n",
        "latitude_sigma = mle_results['latitude']['Std (sigma)']\n",
        "values_to_evaluate = [50, 75, 80]\n",
        "log_likelihoods = {value: norm.logpdf(value, latitude_mu,\n",
        "latitude_sigma) for value in values_to_evaluate}\n",
        "# Print the log-likelihood results\n",
        "print(\"\\nQuestion 2: Log-Likelihood Results for\n",
        "Latitude\")\n",
        "for value, log_likelihood in log_likelihoods.items():\n",
        " print(f\"Log-Likelihood for latitude = {value}:\n",
        "{log_likelihood}\")\n",
        "\n",
        "bins = [5, 10, 15, 20]\n",
        "density_estimates = {}\n",
        "for column in columns_to_analyze:\n",
        " density, bin_edges =\n",
        "np.histogram(california_housing[column].dropna(),\n",
        "bins=bins, density=True)\n",
        " density_estimates[column] = (density, bin_edges)\n",
        "\n",
        " # Plotting the density estimates\n",
        " plt.figure(figsize=(8, 6))\n",
        " plt.hist(california_housing[column].dropna(),\n",
        "bins=bins, density=True, alpha=0.6, color='g')\n",
        " plt.title(f'Density Estimate for {column}')\n",
        " plt.xlabel(column)\n",
        " plt.ylabel('Density')\n",
        " plt.show()\n",
        "# Observations based on density estimates\n",
        "print(\"\\nQuestion 3: Density Observations\")\n",
        "for column, (density, bin_edges) in\n",
        "density_estimates.items():\n",
        " print(f\"{column} - Density: {density}, Bin edges:\n",
        "{bin_edges}\")"
      ]
    }
  ]
}